{
 "cells": [
  {
   "cell_type": "code",
   "execution_count": 1,
   "metadata": {},
   "outputs": [
    {
     "data": {
      "text/plain": [
       "CompletedProcess(args=['git', 'pull'], returncode=0)"
      ]
     },
     "execution_count": 1,
     "metadata": {},
     "output_type": "execute_result"
    }
   ],
   "source": [
    "# vacunados region edad\n",
    "import subprocess\n",
    "from environs import Env\n",
    "import pandas as pd\n",
    "\n",
    "env = Env()\n",
    "env.read_env()\n",
    "\n",
    "\n",
    "file_path = 'Datos-COVID19/output/producto78/total_vacunados_sexo_edad.csv'\n",
    "destination_folder = env('BUCKET_LOCATION')\n",
    "\n",
    "subprocess.run(['git', 'checkout','master'], cwd='Datos-COVID19')\n",
    "subprocess.run(['git', 'pull'], cwd='Datos-COVID19')"
   ]
  },
  {
   "cell_type": "code",
   "execution_count": 2,
   "metadata": {},
   "outputs": [],
   "source": [
    "def get_historic_file_git(file_path):\n",
    "\n",
    "    filename = file_path.split('/')[-1]\n",
    "    file_path_dir = file_path.replace(filename, '')\n",
    "\n",
    "\n",
    "    subprocess.run(f'git log --pretty=format:\"%h|%ad| %s %d [%an]\" --date=iso {filename} > commits.txt', shell=True, cwd=file_path_dir)\n",
    "\n",
    "    commits_df = pd.read_csv(f'{file_path_dir}/commits.txt', sep='|', names=['commit','datetime','comment'])\n",
    "\n",
    "    # solo para obtener el header\n",
    "    df = pd.read_csv(file_path, nrows=0)\n",
    "\n",
    "    for commit_row in commits_df.iterrows():\n",
    "        subprocess.run(['git', 'checkout',commit_row[1]['commit']], cwd=file_path_dir)\n",
    "        \n",
    "        aux = pd.read_csv(file_path)\n",
    "        aux['datetime'] = commit_row[1]['datetime']\n",
    "        \n",
    "        df = pd.concat([df, aux])\n",
    "\n",
    "    return df\n",
    "\n",
    "subprocess.run(['git', 'checkout','master'], cwd='Datos-COVID19')\n",
    "subprocess.run(['git', 'pull'], cwd='Datos-COVID19')\n",
    "\n",
    "df_vacunas = get_historic_file_git(file_path)\n",
    "\n",
    "subprocess.run(['git', 'checkout','master'], cwd='Datos-COVID19')\n",
    "\n",
    "df_vacunas = df_vacunas[pd.notna(df_vacunas['datetime'])]\n",
    "df_grouped = df_vacunas.groupby(['Dosis','datetime']).sum()\n",
    "\n",
    "over_60_cols = set(filter(lambda x: int(x)>=60, df_grouped.columns))\n",
    "under_60_cols = set(df_grouped.columns).difference(over_60_cols)\n",
    "\n",
    "df_grouped['60 o mas'] = df_grouped[over_60_cols].sum(axis=1)\n",
    "df_grouped['Menores de 60'] = df_grouped[under_60_cols].sum(axis=1)\n",
    "\n",
    "df_grouped = df_grouped[['60 o mas','Menores de 60']]\n",
    "\n",
    "demo = pd.read_csv('local_postprocessed_data/Chile-2020.csv')\n",
    "\n",
    "over_60_tot = demo.iloc[12:][['M','F']].sum().sum()\n",
    "under_60_tot = demo.iloc[0:12][['M','F']].sum().sum()\n",
    "\n",
    "df_grouped['60 o mas (%)'] = df_grouped['60 o mas']/over_60_tot\n",
    "df_grouped['Menores de 60 (%)'] = df_grouped['Menores de 60']/under_60_tot\n",
    "\n",
    "df_grouped.to_csv(f'{destination_folder}/vacunas_diarias_edad_sexo.csv')"
   ]
  },
  {
   "cell_type": "code",
   "execution_count": 13,
   "metadata": {},
   "outputs": [],
   "source": [
    "# casos genero-edad\n",
    "src_path = \"Datos-COVID19/output/producto16/CasosGeneroEtario.csv\"\n",
    "df_casos = pd.read_csv(src_path)\n",
    "\n",
    "df_casos = df_casos.groupby('Grupo de edad').sum().transpose()\n",
    "\n",
    "df_casos_fixed = pd.DataFrame(index=pd.date_range(df_casos.index.min(),df_casos.index.max(), freq=\"D\"))\n",
    "df_casos_fixed = df_casos_fixed.join(df_casos, how='left')\n",
    "df_casos_fixed = df_casos_fixed.interpolate()\n",
    "df_casos_fixed = df_casos_fixed.astype(int)\n",
    "\n",
    "df_casos_diarios = df_casos_fixed.diff(1)\n",
    "\n",
    "df_casos_diarios.drop(df_casos_diarios.head(1).index, inplace=True)\n",
    "\n",
    "over_60_cols = set(['60 - 64 años','65 - 69 años','70 - 74 años','75 - 79 años','80 y más años'])\n",
    "under_60_cols = set(df_casos_diarios.columns).difference(over_60_cols)\n",
    "\n",
    "df_casos_diarios['60 o mas'] = df_casos_diarios[over_60_cols].sum(axis=1)\n",
    "df_casos_diarios['Menores de 60'] = df_casos_diarios[under_60_cols].sum(axis=1)\n",
    "\n",
    "df_casos_diarios = df_casos_diarios.reset_index().rename(columns={'index':'date'})\n",
    "\n",
    "df_casos_diarios['Totales'] = df_casos_diarios[['60 o mas','Menores de 60']].sum(axis=1)\n",
    "df_casos_diarios = df_casos_diarios[['date','60 o mas','Menores de 60','Totales']]\n",
    "\n",
    "df_casos_diarios.to_csv(f'{destination_folder}/casos_diarios.csv')"
   ]
  },
  {
   "cell_type": "code",
   "execution_count": null,
   "metadata": {},
   "outputs": [],
   "source": []
  }
 ],
 "metadata": {
  "kernelspec": {
   "display_name": "Python 3",
   "language": "python",
   "name": "python3"
  },
  "language_info": {
   "codemirror_mode": {
    "name": "ipython",
    "version": 3
   },
   "file_extension": ".py",
   "mimetype": "text/x-python",
   "name": "python",
   "nbconvert_exporter": "python",
   "pygments_lexer": "ipython3",
   "version": "3.7.3"
  }
 },
 "nbformat": 4,
 "nbformat_minor": 4
}
