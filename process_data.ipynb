{
 "cells": [
  {
   "cell_type": "code",
   "execution_count": 3,
   "metadata": {},
   "outputs": [
    {
     "data": {
      "text/html": [
       "<div>\n",
       "<style scoped>\n",
       "    .dataframe tbody tr th:only-of-type {\n",
       "        vertical-align: middle;\n",
       "    }\n",
       "\n",
       "    .dataframe tbody tr th {\n",
       "        vertical-align: top;\n",
       "    }\n",
       "\n",
       "    .dataframe thead th {\n",
       "        text-align: right;\n",
       "    }\n",
       "</style>\n",
       "<table border=\"1\" class=\"dataframe\">\n",
       "  <thead>\n",
       "    <tr style=\"text-align: right;\">\n",
       "      <th></th>\n",
       "      <th>Dosis</th>\n",
       "      <th>datetime</th>\n",
       "      <th>60 o mas</th>\n",
       "      <th>Menores de 60</th>\n",
       "      <th>60 o mas (%)</th>\n",
       "      <th>Menores de 60 (%)</th>\n",
       "    </tr>\n",
       "  </thead>\n",
       "  <tbody>\n",
       "    <tr>\n",
       "      <th>0</th>\n",
       "      <td>Primera</td>\n",
       "      <td>2021-02-21 10:39:04 -0300</td>\n",
       "      <td>1906756.0</td>\n",
       "      <td>926040.0</td>\n",
       "      <td>0.573869</td>\n",
       "      <td>0.058634</td>\n",
       "    </tr>\n",
       "    <tr>\n",
       "      <th>1</th>\n",
       "      <td>Primera</td>\n",
       "      <td>2021-02-21 23:00:26 -0300</td>\n",
       "      <td>1908632.0</td>\n",
       "      <td>927233.0</td>\n",
       "      <td>0.574434</td>\n",
       "      <td>0.058710</td>\n",
       "    </tr>\n",
       "    <tr>\n",
       "      <th>2</th>\n",
       "      <td>Primera</td>\n",
       "      <td>2021-02-22 16:48:09 +0000</td>\n",
       "      <td>1931934.0</td>\n",
       "      <td>937102.0</td>\n",
       "      <td>0.581447</td>\n",
       "      <td>0.059334</td>\n",
       "    </tr>\n",
       "    <tr>\n",
       "      <th>3</th>\n",
       "      <td>Primera</td>\n",
       "      <td>2021-02-22 23:55:53 +0000</td>\n",
       "      <td>1972755.0</td>\n",
       "      <td>966058.0</td>\n",
       "      <td>0.593732</td>\n",
       "      <td>0.061168</td>\n",
       "    </tr>\n",
       "    <tr>\n",
       "      <th>4</th>\n",
       "      <td>Primera</td>\n",
       "      <td>2021-02-23 16:34:39 +0000</td>\n",
       "      <td>1990587.0</td>\n",
       "      <td>984316.0</td>\n",
       "      <td>0.599099</td>\n",
       "      <td>0.062324</td>\n",
       "    </tr>\n",
       "    <tr>\n",
       "      <th>...</th>\n",
       "      <td>...</td>\n",
       "      <td>...</td>\n",
       "      <td>...</td>\n",
       "      <td>...</td>\n",
       "      <td>...</td>\n",
       "      <td>...</td>\n",
       "    </tr>\n",
       "    <tr>\n",
       "      <th>71</th>\n",
       "      <td>Segunda</td>\n",
       "      <td>2021-03-11 23:46:21 +0000</td>\n",
       "      <td>962255.0</td>\n",
       "      <td>553619.0</td>\n",
       "      <td>0.289606</td>\n",
       "      <td>0.035053</td>\n",
       "    </tr>\n",
       "    <tr>\n",
       "      <th>72</th>\n",
       "      <td>Segunda</td>\n",
       "      <td>2021-03-12 15:48:37 +0000</td>\n",
       "      <td>1034089.0</td>\n",
       "      <td>577931.0</td>\n",
       "      <td>0.311226</td>\n",
       "      <td>0.036593</td>\n",
       "    </tr>\n",
       "    <tr>\n",
       "      <th>73</th>\n",
       "      <td>Segunda</td>\n",
       "      <td>2021-03-12 21:19:33 +0000</td>\n",
       "      <td>1125488.0</td>\n",
       "      <td>616757.0</td>\n",
       "      <td>0.338734</td>\n",
       "      <td>0.039051</td>\n",
       "    </tr>\n",
       "    <tr>\n",
       "      <th>74</th>\n",
       "      <td>Segunda</td>\n",
       "      <td>2021-03-13 17:31:39 +0000</td>\n",
       "      <td>1137464.0</td>\n",
       "      <td>623903.0</td>\n",
       "      <td>0.342338</td>\n",
       "      <td>0.039504</td>\n",
       "    </tr>\n",
       "    <tr>\n",
       "      <th>75</th>\n",
       "      <td>Segunda</td>\n",
       "      <td>2021-03-13 22:44:56 +0000</td>\n",
       "      <td>1146380.0</td>\n",
       "      <td>630564.0</td>\n",
       "      <td>0.345022</td>\n",
       "      <td>0.039925</td>\n",
       "    </tr>\n",
       "  </tbody>\n",
       "</table>\n",
       "<p>76 rows × 6 columns</p>\n",
       "</div>"
      ],
      "text/plain": [
       "      Dosis                   datetime   60 o mas  Menores de 60  \\\n",
       "0   Primera  2021-02-21 10:39:04 -0300  1906756.0       926040.0   \n",
       "1   Primera  2021-02-21 23:00:26 -0300  1908632.0       927233.0   \n",
       "2   Primera  2021-02-22 16:48:09 +0000  1931934.0       937102.0   \n",
       "3   Primera  2021-02-22 23:55:53 +0000  1972755.0       966058.0   \n",
       "4   Primera  2021-02-23 16:34:39 +0000  1990587.0       984316.0   \n",
       "..      ...                        ...        ...            ...   \n",
       "71  Segunda  2021-03-11 23:46:21 +0000   962255.0       553619.0   \n",
       "72  Segunda  2021-03-12 15:48:37 +0000  1034089.0       577931.0   \n",
       "73  Segunda  2021-03-12 21:19:33 +0000  1125488.0       616757.0   \n",
       "74  Segunda  2021-03-13 17:31:39 +0000  1137464.0       623903.0   \n",
       "75  Segunda  2021-03-13 22:44:56 +0000  1146380.0       630564.0   \n",
       "\n",
       "    60 o mas (%)  Menores de 60 (%)  \n",
       "0       0.573869           0.058634  \n",
       "1       0.574434           0.058710  \n",
       "2       0.581447           0.059334  \n",
       "3       0.593732           0.061168  \n",
       "4       0.599099           0.062324  \n",
       "..           ...                ...  \n",
       "71      0.289606           0.035053  \n",
       "72      0.311226           0.036593  \n",
       "73      0.338734           0.039051  \n",
       "74      0.342338           0.039504  \n",
       "75      0.345022           0.039925  \n",
       "\n",
       "[76 rows x 6 columns]"
      ]
     },
     "execution_count": 3,
     "metadata": {},
     "output_type": "execute_result"
    }
   ],
   "source": [
    "# vacunados region edad\n",
    "import pandas as pd\n",
    "src_path = \"local_postprocessed_data/vacunas_diarias_edad_sexo.csv\"\n",
    "\n",
    "df_vacunas = pd.read_csv(src_path)\n",
    "df_vacunas"
   ]
  },
  {
   "cell_type": "code",
   "execution_count": 178,
   "metadata": {},
   "outputs": [],
   "source": [
    "import subprocess\n",
    "\n",
    "file_path = 'Datos-COVID19/output/producto78/total_vacunados_sexo_edad.csv'\n",
    "\n",
    "\n",
    "\n",
    "def get_historic_file_git(file_path):\n",
    "\n",
    "    filename = file_path.split('/')[-1]\n",
    "    file_path_dir = file_path.replace(filename, '')\n",
    "\n",
    "    subprocess.run(['git', 'checkout','master'], cwd=file_path_dir)\n",
    "\n",
    "    subprocess.run(f'git log --pretty=format:\"%h|%ad| %s %d [%an]\" --date=iso {filename} > commits.txt', shell=True, cwd=file_path_dir)\n",
    "\n",
    "    commits_df = pd.read_csv(f'{file_path_dir}/commits.txt', sep='|', names=['commit','datetime','comment'])\n",
    "\n",
    "    # solo para obtener el header\n",
    "    df = pd.read_csv(file_path, nrows=0)\n",
    "\n",
    "    for commit_row in commits_df.iterrows():\n",
    "        subprocess.run(['git', 'checkout',commit_row[1]['commit']], cwd=file_path_dir)\n",
    "        \n",
    "        aux = pd.read_csv(file_path)\n",
    "        aux['datetime'] = commit_row[1]['datetime']\n",
    "        \n",
    "        df = pd.concat([df, aux])\n",
    "\n",
    "    return df\n",
    "\n",
    "\n",
    "df_vacunas = get_historic_file_git(file_path)\n"
   ]
  },
  {
   "cell_type": "code",
   "execution_count": 180,
   "metadata": {},
   "outputs": [],
   "source": [
    "df_vacunas = df_vacunas[pd.notna(df_vacunas['datetime'])]\n",
    "df_grouped = df_vacunas.groupby(['Dosis','datetime']).sum()\n",
    "\n",
    "over_60_cols = set(filter(lambda x: int(x)>=60, df_grouped.columns))\n",
    "under_60_cols = set(df_grouped.columns).difference(over_60_cols)\n",
    "\n",
    "df_grouped['60 o mas'] = df_grouped[over_60_cols].sum(axis=1)\n",
    "df_grouped['Menores de 60'] = df_grouped[under_60_cols].sum(axis=1)\n",
    "\n",
    "df_grouped = df_grouped[['60 o mas','Menores de 60']]"
   ]
  },
  {
   "cell_type": "code",
   "execution_count": 181,
   "metadata": {},
   "outputs": [],
   "source": [
    "demo = pd.read_csv('local_postprocessed_data/Chile-2020.csv')\n",
    "\n",
    "over_60_tot = demo.iloc[12:][['M','F']].sum().sum()\n",
    "under_60_tot = demo.iloc[0:12][['M','F']].sum().sum()\n",
    "\n",
    "df_grouped['60 o mas (%)'] = df_grouped['60 o mas']/over_60_tot\n",
    "df_grouped['Menores de 60 (%)'] = df_grouped['Menores de 60']/under_60_tot"
   ]
  },
  {
   "cell_type": "code",
   "execution_count": 182,
   "metadata": {},
   "outputs": [],
   "source": [
    "df_grouped.to_csv('local_postprocessed_data/vacunas_diarias_edad_sexo.csv')"
   ]
  },
  {
   "cell_type": "code",
   "execution_count": 61,
   "metadata": {},
   "outputs": [],
   "source": [
    "# casos genero-edad\n",
    "src_path = \"Datos-COVID19/output/producto16/CasosGeneroEtarioEtapaClinica.csv\"\n",
    "df_casos = pd.read_csv(src_path)\n",
    "\n",
    "df_casos['Etapa clinica'] = df_casos['Etapa clinica'].fillna('Ninguna')\n",
    "df_casos = df_casos[df_casos['Etapa clinica']=='Ninguna'].groupby('Grupo de edad').sum().transpose()\n",
    "df_casos.drop(df_casos.tail(1).index, inplace=True)"
   ]
  },
  {
   "cell_type": "code",
   "execution_count": 62,
   "metadata": {},
   "outputs": [],
   "source": [
    "df_casos_fixed = pd.DataFrame(index=pd.date_range(df_casos.index.min(),df_casos.index.max(), freq=\"D\"))\n",
    "df_casos_fixed = df_casos_fixed.join(df_casos, how='left')\n",
    "df_casos_fixed = df_casos_fixed.interpolate()\n",
    "df_casos_fixed = df_casos_fixed.astype(int)"
   ]
  },
  {
   "cell_type": "code",
   "execution_count": 63,
   "metadata": {},
   "outputs": [],
   "source": [
    "df_casos_diarios = df_casos_fixed.diff(1)"
   ]
  },
  {
   "cell_type": "code",
   "execution_count": 65,
   "metadata": {},
   "outputs": [],
   "source": [
    "df_casos_diarios.drop(df_casos_diarios.head(1).index, inplace=True)"
   ]
  },
  {
   "cell_type": "code",
   "execution_count": 66,
   "metadata": {},
   "outputs": [],
   "source": [
    "over_60_cols = set(['60 - 64 años','65 - 69 años','70 - 74 años','75 - 79 años','80 y más años'])\n",
    "under_60_cols = set(df_casos_diarios.columns).difference(over_60_cols)\n"
   ]
  },
  {
   "cell_type": "code",
   "execution_count": 67,
   "metadata": {},
   "outputs": [],
   "source": [
    "df_casos_diarios['60 o mas'] = df_casos_diarios[over_60_cols].sum(axis=1)\n",
    "df_casos_diarios['Menores de 60'] = df_casos_diarios[under_60_cols].sum(axis=1)"
   ]
  },
  {
   "cell_type": "code",
   "execution_count": 68,
   "metadata": {},
   "outputs": [],
   "source": [
    "df_casos_diarios = df_casos_diarios.reset_index().rename(columns={'index':'date'})"
   ]
  },
  {
   "cell_type": "code",
   "execution_count": 172,
   "metadata": {},
   "outputs": [],
   "source": [
    "df_casos_diarios['Totales'] = df_casos_diarios[['60 o mas','Menores de 60']].sum(axis=1)\n",
    "df_casos_diarios = df_casos_diarios[['date','60 o mas','Menores de 60','Totales']]"
   ]
  },
  {
   "cell_type": "code",
   "execution_count": 173,
   "metadata": {},
   "outputs": [],
   "source": [
    "df_casos_diarios.to_csv('local_postprocessed_data/casos_diarios.csv')"
   ]
  },
  {
   "cell_type": "code",
   "execution_count": 4,
   "metadata": {},
   "outputs": [],
   "source": [
    "# UCI\n",
    "src_path = \"Datos-COVID19/output/producto9/HospitalizadosUCIEtario_T.csv\"\n",
    "\n",
    "df_UCI = pd.read_csv(src_path)\n",
    "df_UCI.rename(columns={'Grupo de edad':'date'}, inplace=True)\n",
    "df_UCI['60 o mas'] = df_UCI[['60-69','>=70']].sum(axis=1)\n",
    "df_UCI['Menores de 60'] = df_UCI[['<=39','40-49','50-59']].sum(axis=1)\n",
    "df_UCI['Totales'] = df_UCI[['Menores de 60', '60 o mas']].sum(axis=1)\n",
    "df_UCI.to_csv('local_postprocessed_data/uci_diarios.csv')"
   ]
  },
  {
   "cell_type": "code",
   "execution_count": 114,
   "metadata": {},
   "outputs": [],
   "source": [
    "# camas UCI\n",
    "\n",
    "src_path = \"Datos-COVID19/output/producto58/Camas_UCI_diarias_t.csv\"\n",
    "camas_uci = pd.read_csv(src_path)"
   ]
  },
  {
   "cell_type": "code",
   "execution_count": 115,
   "metadata": {},
   "outputs": [],
   "source": [
    "camas_uci_proc = camas_uci[['Region','Total','Total.2']].rename(columns={'Region':'date','Total':'Camas UCI Habilitadas', 'Total.2':'Camas no Covid-19 ocupadas'})\n",
    "\n",
    "camas_uci_proc.drop(camas_uci_proc.tail(1).index, inplace=True)"
   ]
  },
  {
   "cell_type": "code",
   "execution_count": 116,
   "metadata": {},
   "outputs": [],
   "source": [
    "camas_uci_proc.to_csv('local_postprocessed_data/camas_uci.csv')"
   ]
  },
  {
   "cell_type": "raw",
   "metadata": {},
   "source": [
    "df_casos.set_index('Grupo de edad')"
   ]
  },
  {
   "cell_type": "code",
   "execution_count": 6,
   "metadata": {},
   "outputs": [
    {
     "data": {
      "text/html": [
       "<div>\n",
       "<style scoped>\n",
       "    .dataframe tbody tr th:only-of-type {\n",
       "        vertical-align: middle;\n",
       "    }\n",
       "\n",
       "    .dataframe tbody tr th {\n",
       "        vertical-align: top;\n",
       "    }\n",
       "\n",
       "    .dataframe thead th {\n",
       "        text-align: right;\n",
       "    }\n",
       "</style>\n",
       "<table border=\"1\" class=\"dataframe\">\n",
       "  <thead>\n",
       "    <tr style=\"text-align: right;\">\n",
       "      <th></th>\n",
       "      <th>date</th>\n",
       "      <th>&lt;=39</th>\n",
       "      <th>40-49</th>\n",
       "      <th>50-59</th>\n",
       "      <th>60-69</th>\n",
       "      <th>&gt;=70</th>\n",
       "      <th>60 o mas</th>\n",
       "      <th>Menores de 60</th>\n",
       "      <th>Totales</th>\n",
       "    </tr>\n",
       "  </thead>\n",
       "  <tbody>\n",
       "    <tr>\n",
       "      <th>308</th>\n",
       "      <td>2021-02-03</td>\n",
       "      <td>115</td>\n",
       "      <td>116</td>\n",
       "      <td>308</td>\n",
       "      <td>522</td>\n",
       "      <td>423</td>\n",
       "      <td>945</td>\n",
       "      <td>539</td>\n",
       "      <td>1484</td>\n",
       "    </tr>\n",
       "  </tbody>\n",
       "</table>\n",
       "</div>"
      ],
      "text/plain": [
       "           date  <=39  40-49  50-59  60-69  >=70  60 o mas  Menores de 60  \\\n",
       "308  2021-02-03   115    116    308    522   423       945            539   \n",
       "\n",
       "     Totales  \n",
       "308     1484  "
      ]
     },
     "execution_count": 6,
     "metadata": {},
     "output_type": "execute_result"
    }
   ],
   "source": [
    "df_UCI[df_UCI['date']=='2021-02-03']['>=70']"
   ]
  },
  {
   "cell_type": "code",
   "execution_count": 12,
   "metadata": {},
   "outputs": [
    {
     "data": {
      "text/plain": [
       "<matplotlib.axes._subplots.AxesSubplot at 0x2b6d1a7aeb8>"
      ]
     },
     "execution_count": 12,
     "metadata": {},
     "output_type": "execute_result"
    },
    {
     "data": {
      "image/png": "[encoded data removed]",
      "text/plain": [
       "<Figure size 432x288 with 1 Axes>"
      ]
     },
     "metadata": {
      "needs_background": "light"
     },
     "output_type": "display_data"
    }
   ],
   "source": [
    "import seaborn as sns\n",
    "\n",
    "sns.lineplot(x=df_UCI['date'], y=df_UCI['>=70']/df_UCI[df_UCI['date']=='2021-02-03']['>=70'].iloc[0])"
   ]
  },
  {
   "cell_type": "code",
   "execution_count": 13,
   "metadata": {},
   "outputs": [
    {
     "data": {
      "text/html": [
       "<div>\n",
       "<style scoped>\n",
       "    .dataframe tbody tr th:only-of-type {\n",
       "        vertical-align: middle;\n",
       "    }\n",
       "\n",
       "    .dataframe tbody tr th {\n",
       "        vertical-align: top;\n",
       "    }\n",
       "\n",
       "    .dataframe thead th {\n",
       "        text-align: right;\n",
       "    }\n",
       "</style>\n",
       "<table border=\"1\" class=\"dataframe\">\n",
       "  <thead>\n",
       "    <tr style=\"text-align: right;\">\n",
       "      <th></th>\n",
       "      <th>date</th>\n",
       "      <th>&lt;=39</th>\n",
       "      <th>40-49</th>\n",
       "      <th>50-59</th>\n",
       "      <th>60-69</th>\n",
       "      <th>&gt;=70</th>\n",
       "      <th>60 o mas</th>\n",
       "      <th>Menores de 60</th>\n",
       "      <th>Totales</th>\n",
       "    </tr>\n",
       "  </thead>\n",
       "  <tbody>\n",
       "    <tr>\n",
       "      <th>308</th>\n",
       "      <td>2021-02-03</td>\n",
       "      <td>115</td>\n",
       "      <td>116</td>\n",
       "      <td>308</td>\n",
       "      <td>522</td>\n",
       "      <td>423</td>\n",
       "      <td>945</td>\n",
       "      <td>539</td>\n",
       "      <td>1484</td>\n",
       "    </tr>\n",
       "  </tbody>\n",
       "</table>\n",
       "</div>"
      ],
      "text/plain": [
       "           date  <=39  40-49  50-59  60-69  >=70  60 o mas  Menores de 60  \\\n",
       "308  2021-02-03   115    116    308    522   423       945            539   \n",
       "\n",
       "     Totales  \n",
       "308     1484  "
      ]
     },
     "execution_count": 13,
     "metadata": {},
     "output_type": "execute_result"
    }
   ],
   "source": [
    "df_UCIdf_UCI[df_UCI['date']=='2021-02-03']"
   ]
  },
  {
   "cell_type": "code",
   "execution_count": null,
   "metadata": {},
   "outputs": [],
   "source": []
  }
 ],
 "metadata": {
  "kernelspec": {
   "display_name": "Python 3",
   "language": "python",
   "name": "python3"
  },
  "language_info": {
   "codemirror_mode": {
    "name": "ipython",
    "version": 3
   },
   "file_extension": ".py",
   "mimetype": "text/x-python",
   "name": "python",
   "nbconvert_exporter": "python",
   "pygments_lexer": "ipython3",
   "version": "3.7.3"
  }
 },
 "nbformat": 4,
 "nbformat_minor": 4
}
